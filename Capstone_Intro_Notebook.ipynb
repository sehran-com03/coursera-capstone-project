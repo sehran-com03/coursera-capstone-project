{
    "cells": [
        {
            "cell_type": "code",
            "execution_count": 1,
            "metadata": {},
            "outputs": [
                {
                    "data": {
                        "text/html": "<div>\n<style scoped>\n    .dataframe tbody tr th:only-of-type {\n        vertical-align: middle;\n    }\n\n    .dataframe tbody tr th {\n        vertical-align: top;\n    }\n\n    .dataframe thead th {\n        text-align: right;\n    }\n</style>\n<table border=\"1\" class=\"dataframe\">\n  <thead>\n    <tr style=\"text-align: right;\">\n      <th></th>\n      <th>Loan_ID</th>\n      <th>Gender</th>\n      <th>Married</th>\n      <th>Dependents</th>\n      <th>Education</th>\n      <th>Self_Employed</th>\n      <th>ApplicantIncome</th>\n      <th>CoapplicantIncome</th>\n      <th>LoanAmount</th>\n      <th>Loan_Amount_Term</th>\n      <th>Credit_History</th>\n      <th>Property_Area</th>\n      <th>Loan_Status</th>\n    </tr>\n  </thead>\n  <tbody>\n    <tr>\n      <th>0</th>\n      <td>LP001002</td>\n      <td>Male</td>\n      <td>No</td>\n      <td>0</td>\n      <td>Graduate</td>\n      <td>No</td>\n      <td>5849</td>\n      <td>0.0</td>\n      <td>NaN</td>\n      <td>360.0</td>\n      <td>1.0</td>\n      <td>Urban</td>\n      <td>Y</td>\n    </tr>\n    <tr>\n      <th>1</th>\n      <td>LP001003</td>\n      <td>Male</td>\n      <td>Yes</td>\n      <td>1</td>\n      <td>Graduate</td>\n      <td>No</td>\n      <td>4583</td>\n      <td>1508.0</td>\n      <td>128.0</td>\n      <td>360.0</td>\n      <td>1.0</td>\n      <td>Rural</td>\n      <td>N</td>\n    </tr>\n    <tr>\n      <th>2</th>\n      <td>LP001005</td>\n      <td>Male</td>\n      <td>Yes</td>\n      <td>0</td>\n      <td>Graduate</td>\n      <td>Yes</td>\n      <td>3000</td>\n      <td>0.0</td>\n      <td>66.0</td>\n      <td>360.0</td>\n      <td>1.0</td>\n      <td>Urban</td>\n      <td>Y</td>\n    </tr>\n    <tr>\n      <th>3</th>\n      <td>LP001006</td>\n      <td>Male</td>\n      <td>Yes</td>\n      <td>0</td>\n      <td>Not Graduate</td>\n      <td>No</td>\n      <td>2583</td>\n      <td>2358.0</td>\n      <td>120.0</td>\n      <td>360.0</td>\n      <td>1.0</td>\n      <td>Urban</td>\n      <td>Y</td>\n    </tr>\n    <tr>\n      <th>4</th>\n      <td>LP001008</td>\n      <td>Male</td>\n      <td>No</td>\n      <td>0</td>\n      <td>Graduate</td>\n      <td>No</td>\n      <td>6000</td>\n      <td>0.0</td>\n      <td>141.0</td>\n      <td>360.0</td>\n      <td>1.0</td>\n      <td>Urban</td>\n      <td>Y</td>\n    </tr>\n  </tbody>\n</table>\n</div>",
                        "text/plain": "    Loan_ID Gender Married Dependents     Education Self_Employed  \\\n0  LP001002   Male      No          0      Graduate            No   \n1  LP001003   Male     Yes          1      Graduate            No   \n2  LP001005   Male     Yes          0      Graduate           Yes   \n3  LP001006   Male     Yes          0  Not Graduate            No   \n4  LP001008   Male      No          0      Graduate            No   \n\n   ApplicantIncome  CoapplicantIncome  LoanAmount  Loan_Amount_Term  \\\n0             5849                0.0         NaN             360.0   \n1             4583             1508.0       128.0             360.0   \n2             3000                0.0        66.0             360.0   \n3             2583             2358.0       120.0             360.0   \n4             6000                0.0       141.0             360.0   \n\n   Credit_History Property_Area Loan_Status  \n0             1.0         Urban           Y  \n1             1.0         Rural           N  \n2             1.0         Urban           Y  \n3             1.0         Urban           Y  \n4             1.0         Urban           Y  "
                    },
                    "execution_count": 1,
                    "metadata": {},
                    "output_type": "execute_result"
                }
            ],
            "source": "# The code was removed by Watson Studio for sharing."
        },
        {
            "cell_type": "markdown",
            "metadata": {},
            "source": "## Importing libraries"
        },
        {
            "cell_type": "code",
            "execution_count": 2,
            "metadata": {},
            "outputs": [],
            "source": "import pandas as pd\nimport numpy as np \nimport matplotlib.pyplot as plt\nimport seaborn as sns\nsns.set()\nfrom sklearn.preprocessing import StandardScaler\nfrom sklearn.metrics import accuracy_score,classification_report,jaccard_similarity_score\nfrom sklearn.metrics import log_loss,f1_score,roc_curve,auc"
        },
        {
            "cell_type": "markdown",
            "metadata": {},
            "source": "## Data Cleaning and Preprocessing"
        },
        {
            "cell_type": "code",
            "execution_count": 3,
            "metadata": {},
            "outputs": [
                {
                    "name": "stdout",
                    "output_type": "stream",
                    "text": "(614, 13)\n"
                },
                {
                    "data": {
                        "text/html": "<div>\n<style scoped>\n    .dataframe tbody tr th:only-of-type {\n        vertical-align: middle;\n    }\n\n    .dataframe tbody tr th {\n        vertical-align: top;\n    }\n\n    .dataframe thead th {\n        text-align: right;\n    }\n</style>\n<table border=\"1\" class=\"dataframe\">\n  <thead>\n    <tr style=\"text-align: right;\">\n      <th></th>\n      <th>Loan_ID</th>\n      <th>Gender</th>\n      <th>Married</th>\n      <th>Dependents</th>\n      <th>Education</th>\n      <th>Self_Employed</th>\n      <th>ApplicantIncome</th>\n      <th>CoapplicantIncome</th>\n      <th>LoanAmount</th>\n      <th>Loan_Amount_Term</th>\n      <th>Credit_History</th>\n      <th>Property_Area</th>\n      <th>Loan_Status</th>\n    </tr>\n  </thead>\n  <tbody>\n    <tr>\n      <th>0</th>\n      <td>LP001002</td>\n      <td>Male</td>\n      <td>No</td>\n      <td>0</td>\n      <td>Graduate</td>\n      <td>No</td>\n      <td>5849</td>\n      <td>0.0</td>\n      <td>NaN</td>\n      <td>360.0</td>\n      <td>1.0</td>\n      <td>Urban</td>\n      <td>Y</td>\n    </tr>\n    <tr>\n      <th>1</th>\n      <td>LP001003</td>\n      <td>Male</td>\n      <td>Yes</td>\n      <td>1</td>\n      <td>Graduate</td>\n      <td>No</td>\n      <td>4583</td>\n      <td>1508.0</td>\n      <td>128.0</td>\n      <td>360.0</td>\n      <td>1.0</td>\n      <td>Rural</td>\n      <td>N</td>\n    </tr>\n    <tr>\n      <th>2</th>\n      <td>LP001005</td>\n      <td>Male</td>\n      <td>Yes</td>\n      <td>0</td>\n      <td>Graduate</td>\n      <td>Yes</td>\n      <td>3000</td>\n      <td>0.0</td>\n      <td>66.0</td>\n      <td>360.0</td>\n      <td>1.0</td>\n      <td>Urban</td>\n      <td>Y</td>\n    </tr>\n    <tr>\n      <th>3</th>\n      <td>LP001006</td>\n      <td>Male</td>\n      <td>Yes</td>\n      <td>0</td>\n      <td>Not Graduate</td>\n      <td>No</td>\n      <td>2583</td>\n      <td>2358.0</td>\n      <td>120.0</td>\n      <td>360.0</td>\n      <td>1.0</td>\n      <td>Urban</td>\n      <td>Y</td>\n    </tr>\n    <tr>\n      <th>4</th>\n      <td>LP001008</td>\n      <td>Male</td>\n      <td>No</td>\n      <td>0</td>\n      <td>Graduate</td>\n      <td>No</td>\n      <td>6000</td>\n      <td>0.0</td>\n      <td>141.0</td>\n      <td>360.0</td>\n      <td>1.0</td>\n      <td>Urban</td>\n      <td>Y</td>\n    </tr>\n  </tbody>\n</table>\n</div>",
                        "text/plain": "    Loan_ID Gender Married Dependents     Education Self_Employed  \\\n0  LP001002   Male      No          0      Graduate            No   \n1  LP001003   Male     Yes          1      Graduate            No   \n2  LP001005   Male     Yes          0      Graduate           Yes   \n3  LP001006   Male     Yes          0  Not Graduate            No   \n4  LP001008   Male      No          0      Graduate            No   \n\n   ApplicantIncome  CoapplicantIncome  LoanAmount  Loan_Amount_Term  \\\n0             5849                0.0         NaN             360.0   \n1             4583             1508.0       128.0             360.0   \n2             3000                0.0        66.0             360.0   \n3             2583             2358.0       120.0             360.0   \n4             6000                0.0       141.0             360.0   \n\n   Credit_History Property_Area Loan_Status  \n0             1.0         Urban           Y  \n1             1.0         Rural           N  \n2             1.0         Urban           Y  \n3             1.0         Urban           Y  \n4             1.0         Urban           Y  "
                    },
                    "execution_count": 3,
                    "metadata": {},
                    "output_type": "execute_result"
                }
            ],
            "source": "df = df_data_0.copy()\nprint(df.shape)\ndf.head()"
        },
        {
            "cell_type": "code",
            "execution_count": 4,
            "metadata": {},
            "outputs": [
                {
                    "data": {
                        "text/plain": "Loan_ID              False\nGender                True\nMarried               True\nDependents            True\nEducation            False\nSelf_Employed         True\nApplicantIncome      False\nCoapplicantIncome    False\nLoanAmount            True\nLoan_Amount_Term      True\nCredit_History        True\nProperty_Area        False\nLoan_Status          False\ndtype: bool"
                    },
                    "execution_count": 4,
                    "metadata": {},
                    "output_type": "execute_result"
                }
            ],
            "source": "df.isnull().any()"
        },
        {
            "cell_type": "code",
            "execution_count": 5,
            "metadata": {},
            "outputs": [
                {
                    "name": "stdout",
                    "output_type": "stream",
                    "text": "(480, 13)\n"
                },
                {
                    "data": {
                        "text/html": "<div>\n<style scoped>\n    .dataframe tbody tr th:only-of-type {\n        vertical-align: middle;\n    }\n\n    .dataframe tbody tr th {\n        vertical-align: top;\n    }\n\n    .dataframe thead th {\n        text-align: right;\n    }\n</style>\n<table border=\"1\" class=\"dataframe\">\n  <thead>\n    <tr style=\"text-align: right;\">\n      <th></th>\n      <th>Loan_ID</th>\n      <th>Gender</th>\n      <th>Married</th>\n      <th>Dependents</th>\n      <th>Education</th>\n      <th>Self_Employed</th>\n      <th>ApplicantIncome</th>\n      <th>CoapplicantIncome</th>\n      <th>LoanAmount</th>\n      <th>Loan_Amount_Term</th>\n      <th>Credit_History</th>\n      <th>Property_Area</th>\n      <th>Loan_Status</th>\n    </tr>\n  </thead>\n  <tbody>\n    <tr>\n      <th>1</th>\n      <td>LP001003</td>\n      <td>Male</td>\n      <td>Yes</td>\n      <td>1</td>\n      <td>Graduate</td>\n      <td>No</td>\n      <td>4583</td>\n      <td>1508.0</td>\n      <td>128.0</td>\n      <td>360.0</td>\n      <td>1.0</td>\n      <td>Rural</td>\n      <td>N</td>\n    </tr>\n    <tr>\n      <th>2</th>\n      <td>LP001005</td>\n      <td>Male</td>\n      <td>Yes</td>\n      <td>0</td>\n      <td>Graduate</td>\n      <td>Yes</td>\n      <td>3000</td>\n      <td>0.0</td>\n      <td>66.0</td>\n      <td>360.0</td>\n      <td>1.0</td>\n      <td>Urban</td>\n      <td>Y</td>\n    </tr>\n    <tr>\n      <th>3</th>\n      <td>LP001006</td>\n      <td>Male</td>\n      <td>Yes</td>\n      <td>0</td>\n      <td>Not Graduate</td>\n      <td>No</td>\n      <td>2583</td>\n      <td>2358.0</td>\n      <td>120.0</td>\n      <td>360.0</td>\n      <td>1.0</td>\n      <td>Urban</td>\n      <td>Y</td>\n    </tr>\n    <tr>\n      <th>4</th>\n      <td>LP001008</td>\n      <td>Male</td>\n      <td>No</td>\n      <td>0</td>\n      <td>Graduate</td>\n      <td>No</td>\n      <td>6000</td>\n      <td>0.0</td>\n      <td>141.0</td>\n      <td>360.0</td>\n      <td>1.0</td>\n      <td>Urban</td>\n      <td>Y</td>\n    </tr>\n    <tr>\n      <th>5</th>\n      <td>LP001011</td>\n      <td>Male</td>\n      <td>Yes</td>\n      <td>2</td>\n      <td>Graduate</td>\n      <td>Yes</td>\n      <td>5417</td>\n      <td>4196.0</td>\n      <td>267.0</td>\n      <td>360.0</td>\n      <td>1.0</td>\n      <td>Urban</td>\n      <td>Y</td>\n    </tr>\n  </tbody>\n</table>\n</div>",
                        "text/plain": "    Loan_ID Gender Married Dependents     Education Self_Employed  \\\n1  LP001003   Male     Yes          1      Graduate            No   \n2  LP001005   Male     Yes          0      Graduate           Yes   \n3  LP001006   Male     Yes          0  Not Graduate            No   \n4  LP001008   Male      No          0      Graduate            No   \n5  LP001011   Male     Yes          2      Graduate           Yes   \n\n   ApplicantIncome  CoapplicantIncome  LoanAmount  Loan_Amount_Term  \\\n1             4583             1508.0       128.0             360.0   \n2             3000                0.0        66.0             360.0   \n3             2583             2358.0       120.0             360.0   \n4             6000                0.0       141.0             360.0   \n5             5417             4196.0       267.0             360.0   \n\n   Credit_History Property_Area Loan_Status  \n1             1.0         Rural           N  \n2             1.0         Urban           Y  \n3             1.0         Urban           Y  \n4             1.0         Urban           Y  \n5             1.0         Urban           Y  "
                    },
                    "execution_count": 5,
                    "metadata": {},
                    "output_type": "execute_result"
                }
            ],
            "source": "df = df.dropna()\nprint(df.shape)\ndf.head()"
        },
        {
            "cell_type": "code",
            "execution_count": 6,
            "metadata": {},
            "outputs": [
                {
                    "data": {
                        "text/html": "<div>\n<style scoped>\n    .dataframe tbody tr th:only-of-type {\n        vertical-align: middle;\n    }\n\n    .dataframe tbody tr th {\n        vertical-align: top;\n    }\n\n    .dataframe thead th {\n        text-align: right;\n    }\n</style>\n<table border=\"1\" class=\"dataframe\">\n  <thead>\n    <tr style=\"text-align: right;\">\n      <th></th>\n      <th>Gender</th>\n      <th>Dependents</th>\n      <th>Education</th>\n      <th>Self_Employed</th>\n      <th>ApplicantIncome</th>\n      <th>CoapplicantIncome</th>\n      <th>LoanAmount</th>\n      <th>Loan_Amount_Term</th>\n      <th>Credit_History</th>\n      <th>Property_Area</th>\n      <th>Loan_Status</th>\n    </tr>\n  </thead>\n  <tbody>\n    <tr>\n      <th>1</th>\n      <td>Male</td>\n      <td>1</td>\n      <td>Graduate</td>\n      <td>No</td>\n      <td>4583</td>\n      <td>1508.0</td>\n      <td>128.0</td>\n      <td>360.0</td>\n      <td>1.0</td>\n      <td>Rural</td>\n      <td>N</td>\n    </tr>\n    <tr>\n      <th>2</th>\n      <td>Male</td>\n      <td>0</td>\n      <td>Graduate</td>\n      <td>Yes</td>\n      <td>3000</td>\n      <td>0.0</td>\n      <td>66.0</td>\n      <td>360.0</td>\n      <td>1.0</td>\n      <td>Urban</td>\n      <td>Y</td>\n    </tr>\n    <tr>\n      <th>3</th>\n      <td>Male</td>\n      <td>0</td>\n      <td>Not Graduate</td>\n      <td>No</td>\n      <td>2583</td>\n      <td>2358.0</td>\n      <td>120.0</td>\n      <td>360.0</td>\n      <td>1.0</td>\n      <td>Urban</td>\n      <td>Y</td>\n    </tr>\n    <tr>\n      <th>4</th>\n      <td>Male</td>\n      <td>0</td>\n      <td>Graduate</td>\n      <td>No</td>\n      <td>6000</td>\n      <td>0.0</td>\n      <td>141.0</td>\n      <td>360.0</td>\n      <td>1.0</td>\n      <td>Urban</td>\n      <td>Y</td>\n    </tr>\n    <tr>\n      <th>5</th>\n      <td>Male</td>\n      <td>2</td>\n      <td>Graduate</td>\n      <td>Yes</td>\n      <td>5417</td>\n      <td>4196.0</td>\n      <td>267.0</td>\n      <td>360.0</td>\n      <td>1.0</td>\n      <td>Urban</td>\n      <td>Y</td>\n    </tr>\n  </tbody>\n</table>\n</div>",
                        "text/plain": "  Gender Dependents     Education Self_Employed  ApplicantIncome  \\\n1   Male          1      Graduate            No             4583   \n2   Male          0      Graduate           Yes             3000   \n3   Male          0  Not Graduate            No             2583   \n4   Male          0      Graduate            No             6000   \n5   Male          2      Graduate           Yes             5417   \n\n   CoapplicantIncome  LoanAmount  Loan_Amount_Term  Credit_History  \\\n1             1508.0       128.0             360.0             1.0   \n2                0.0        66.0             360.0             1.0   \n3             2358.0       120.0             360.0             1.0   \n4                0.0       141.0             360.0             1.0   \n5             4196.0       267.0             360.0             1.0   \n\n  Property_Area Loan_Status  \n1         Rural           N  \n2         Urban           Y  \n3         Urban           Y  \n4         Urban           Y  \n5         Urban           Y  "
                    },
                    "execution_count": 6,
                    "metadata": {},
                    "output_type": "execute_result"
                }
            ],
            "source": "df_selected_features = df.copy()\ndf_selected_features = df_selected_features.drop(columns=['Loan_ID','Married'],axis=1)\ndf_selected_features.head()"
        },
        {
            "cell_type": "code",
            "execution_count": 7,
            "metadata": {},
            "outputs": [
                {
                    "data": {
                        "text/plain": "array(['Gender', 'Dependents', 'Education', 'Self_Employed',\n       'ApplicantIncome', 'CoapplicantIncome', 'LoanAmount',\n       'Loan_Amount_Term', 'Credit_History', 'Property_Area',\n       'Loan_Status'], dtype=object)"
                    },
                    "execution_count": 7,
                    "metadata": {},
                    "output_type": "execute_result"
                }
            ],
            "source": "df_selected_features.columns.values"
        },
        {
            "cell_type": "code",
            "execution_count": 8,
            "metadata": {},
            "outputs": [
                {
                    "name": "stdout",
                    "output_type": "stream",
                    "text": "<class 'pandas.core.frame.DataFrame'>\nInt64Index: 480 entries, 1 to 613\nData columns (total 11 columns):\nGender               480 non-null object\nDependents           480 non-null object\nEducation            480 non-null object\nSelf_Employed        480 non-null object\nApplicantIncome      480 non-null int64\nCoapplicantIncome    480 non-null float64\nLoanAmount           480 non-null float64\nLoan_Amount_Term     480 non-null float64\nCredit_History       480 non-null float64\nProperty_Area        480 non-null object\nLoan_Status          480 non-null object\ndtypes: float64(4), int64(1), object(6)\nmemory usage: 45.0+ KB\n"
                }
            ],
            "source": "df_selected_features.info()"
        },
        {
            "cell_type": "code",
            "execution_count": 9,
            "metadata": {},
            "outputs": [
                {
                    "name": "stdout",
                    "output_type": "stream",
                    "text": "Male      394\nFemale     86\nName: Gender, dtype: int64 \n\n0     274\n2      85\n1      80\n3+     41\nName: Dependents, dtype: int64 \n\nGraduate        383\nNot Graduate     97\nName: Education, dtype: int64 \n\nNo     414\nYes     66\nName: Self_Employed, dtype: int64 \n\nSemiurban    191\nUrban        150\nRural        139\nName: Property_Area, dtype: int64 \n\nY    332\nN    148\nName: Loan_Status, dtype: int64 \n\n"
                }
            ],
            "source": "objects = ['Gender','Dependents','Education','Self_Employed','Property_Area','Loan_Status']\n\nfor feature in objects: \n    counts = df_selected_features[feature].value_counts()\n    print(counts,'\\n')"
        },
        {
            "cell_type": "code",
            "execution_count": 10,
            "metadata": {},
            "outputs": [
                {
                    "data": {
                        "text/html": "<div>\n<style scoped>\n    .dataframe tbody tr th:only-of-type {\n        vertical-align: middle;\n    }\n\n    .dataframe tbody tr th {\n        vertical-align: top;\n    }\n\n    .dataframe thead th {\n        text-align: right;\n    }\n</style>\n<table border=\"1\" class=\"dataframe\">\n  <thead>\n    <tr style=\"text-align: right;\">\n      <th></th>\n      <th>Gender</th>\n      <th>Dependents</th>\n      <th>Education</th>\n      <th>Self_Employed</th>\n      <th>ApplicantIncome</th>\n      <th>CoapplicantIncome</th>\n      <th>LoanAmount</th>\n      <th>Loan_Amount_Term</th>\n      <th>Credit_History</th>\n      <th>Property_Area</th>\n      <th>Loan_Status</th>\n    </tr>\n  </thead>\n  <tbody>\n    <tr>\n      <th>1</th>\n      <td>1</td>\n      <td>1</td>\n      <td>1</td>\n      <td>0</td>\n      <td>4583</td>\n      <td>1508.0</td>\n      <td>128.0</td>\n      <td>360.0</td>\n      <td>1.0</td>\n      <td>3</td>\n      <td>0</td>\n    </tr>\n    <tr>\n      <th>2</th>\n      <td>1</td>\n      <td>0</td>\n      <td>1</td>\n      <td>1</td>\n      <td>3000</td>\n      <td>0.0</td>\n      <td>66.0</td>\n      <td>360.0</td>\n      <td>1.0</td>\n      <td>1</td>\n      <td>1</td>\n    </tr>\n    <tr>\n      <th>3</th>\n      <td>1</td>\n      <td>0</td>\n      <td>2</td>\n      <td>0</td>\n      <td>2583</td>\n      <td>2358.0</td>\n      <td>120.0</td>\n      <td>360.0</td>\n      <td>1.0</td>\n      <td>1</td>\n      <td>1</td>\n    </tr>\n    <tr>\n      <th>4</th>\n      <td>1</td>\n      <td>0</td>\n      <td>1</td>\n      <td>0</td>\n      <td>6000</td>\n      <td>0.0</td>\n      <td>141.0</td>\n      <td>360.0</td>\n      <td>1.0</td>\n      <td>1</td>\n      <td>1</td>\n    </tr>\n    <tr>\n      <th>5</th>\n      <td>1</td>\n      <td>2</td>\n      <td>1</td>\n      <td>1</td>\n      <td>5417</td>\n      <td>4196.0</td>\n      <td>267.0</td>\n      <td>360.0</td>\n      <td>1.0</td>\n      <td>1</td>\n      <td>1</td>\n    </tr>\n  </tbody>\n</table>\n</div>",
                        "text/plain": "   Gender  Dependents  Education  Self_Employed  ApplicantIncome  \\\n1       1           1          1              0             4583   \n2       1           0          1              1             3000   \n3       1           0          2              0             2583   \n4       1           0          1              0             6000   \n5       1           2          1              1             5417   \n\n   CoapplicantIncome  LoanAmount  Loan_Amount_Term  Credit_History  \\\n1             1508.0       128.0             360.0             1.0   \n2                0.0        66.0             360.0             1.0   \n3             2358.0       120.0             360.0             1.0   \n4                0.0       141.0             360.0             1.0   \n5             4196.0       267.0             360.0             1.0   \n\n   Property_Area  Loan_Status  \n1              3            0  \n2              1            1  \n3              1            1  \n4              1            1  \n5              1            1  "
                    },
                    "execution_count": 10,
                    "metadata": {},
                    "output_type": "execute_result"
                }
            ],
            "source": "df_with_dummies = df_selected_features.copy()\ndf_with_dummies['Gender'] = df_with_dummies['Gender'].map({'Male':1,'Female':2})\ndf_with_dummies['Education'] = df_with_dummies['Education'].map({'Graduate':1,'Not Graduate':2})\ndf_with_dummies['Self_Employed'] = df_with_dummies['Self_Employed'].map({'Yes':1,'No':0})\ndf_with_dummies['Loan_Status'] = df_with_dummies['Loan_Status'].map({'Y':1,'N':0})\ndf_with_dummies['Property_Area'] = df_with_dummies['Property_Area'].map({'Urban':1,'Semiurban':2,'Rural':3})\ndf_with_dummies['Dependents'] = df_with_dummies['Dependents'].map({'3+':3,'1':1,'2':2,'0':0})\ndf_with_dummies.head()"
        },
        {
            "cell_type": "code",
            "execution_count": 11,
            "metadata": {},
            "outputs": [
                {
                    "data": {
                        "text/html": "<div>\n<style scoped>\n    .dataframe tbody tr th:only-of-type {\n        vertical-align: middle;\n    }\n\n    .dataframe tbody tr th {\n        vertical-align: top;\n    }\n\n    .dataframe thead th {\n        text-align: right;\n    }\n</style>\n<table border=\"1\" class=\"dataframe\">\n  <thead>\n    <tr style=\"text-align: right;\">\n      <th></th>\n      <th>Gender</th>\n      <th>Dependents</th>\n      <th>Education</th>\n      <th>Self_Employed</th>\n      <th>ApplicantIncome</th>\n      <th>CoapplicantIncome</th>\n      <th>LoanAmount</th>\n      <th>Loan_Amount_Term</th>\n      <th>Credit_History</th>\n      <th>Property_Area</th>\n      <th>Loan_Status</th>\n    </tr>\n  </thead>\n  <tbody>\n    <tr>\n      <th>count</th>\n      <td>480.000000</td>\n      <td>480.000000</td>\n      <td>480.000000</td>\n      <td>480.000000</td>\n      <td>480.000000</td>\n      <td>480.000000</td>\n      <td>480.000000</td>\n      <td>480.000000</td>\n      <td>480.000000</td>\n      <td>480.000000</td>\n      <td>480.000000</td>\n    </tr>\n    <tr>\n      <th>mean</th>\n      <td>1.179167</td>\n      <td>0.777083</td>\n      <td>1.202083</td>\n      <td>0.137500</td>\n      <td>5364.231250</td>\n      <td>1581.093583</td>\n      <td>144.735417</td>\n      <td>342.050000</td>\n      <td>0.854167</td>\n      <td>1.977083</td>\n      <td>0.691667</td>\n    </tr>\n    <tr>\n      <th>std</th>\n      <td>0.383892</td>\n      <td>1.020815</td>\n      <td>0.401973</td>\n      <td>0.344734</td>\n      <td>5668.251251</td>\n      <td>2617.692267</td>\n      <td>80.508164</td>\n      <td>65.212401</td>\n      <td>0.353307</td>\n      <td>0.776411</td>\n      <td>0.462287</td>\n    </tr>\n    <tr>\n      <th>min</th>\n      <td>1.000000</td>\n      <td>0.000000</td>\n      <td>1.000000</td>\n      <td>0.000000</td>\n      <td>150.000000</td>\n      <td>0.000000</td>\n      <td>9.000000</td>\n      <td>36.000000</td>\n      <td>0.000000</td>\n      <td>1.000000</td>\n      <td>0.000000</td>\n    </tr>\n    <tr>\n      <th>25%</th>\n      <td>1.000000</td>\n      <td>0.000000</td>\n      <td>1.000000</td>\n      <td>0.000000</td>\n      <td>2898.750000</td>\n      <td>0.000000</td>\n      <td>100.000000</td>\n      <td>360.000000</td>\n      <td>1.000000</td>\n      <td>1.000000</td>\n      <td>0.000000</td>\n    </tr>\n    <tr>\n      <th>50%</th>\n      <td>1.000000</td>\n      <td>0.000000</td>\n      <td>1.000000</td>\n      <td>0.000000</td>\n      <td>3859.000000</td>\n      <td>1084.500000</td>\n      <td>128.000000</td>\n      <td>360.000000</td>\n      <td>1.000000</td>\n      <td>2.000000</td>\n      <td>1.000000</td>\n    </tr>\n    <tr>\n      <th>75%</th>\n      <td>1.000000</td>\n      <td>2.000000</td>\n      <td>1.000000</td>\n      <td>0.000000</td>\n      <td>5852.500000</td>\n      <td>2253.250000</td>\n      <td>170.000000</td>\n      <td>360.000000</td>\n      <td>1.000000</td>\n      <td>3.000000</td>\n      <td>1.000000</td>\n    </tr>\n    <tr>\n      <th>max</th>\n      <td>2.000000</td>\n      <td>3.000000</td>\n      <td>2.000000</td>\n      <td>1.000000</td>\n      <td>81000.000000</td>\n      <td>33837.000000</td>\n      <td>600.000000</td>\n      <td>480.000000</td>\n      <td>1.000000</td>\n      <td>3.000000</td>\n      <td>1.000000</td>\n    </tr>\n  </tbody>\n</table>\n</div>",
                        "text/plain": "           Gender  Dependents   Education  Self_Employed  ApplicantIncome  \\\ncount  480.000000  480.000000  480.000000     480.000000       480.000000   \nmean     1.179167    0.777083    1.202083       0.137500      5364.231250   \nstd      0.383892    1.020815    0.401973       0.344734      5668.251251   \nmin      1.000000    0.000000    1.000000       0.000000       150.000000   \n25%      1.000000    0.000000    1.000000       0.000000      2898.750000   \n50%      1.000000    0.000000    1.000000       0.000000      3859.000000   \n75%      1.000000    2.000000    1.000000       0.000000      5852.500000   \nmax      2.000000    3.000000    2.000000       1.000000     81000.000000   \n\n       CoapplicantIncome  LoanAmount  Loan_Amount_Term  Credit_History  \\\ncount         480.000000  480.000000        480.000000      480.000000   \nmean         1581.093583  144.735417        342.050000        0.854167   \nstd          2617.692267   80.508164         65.212401        0.353307   \nmin             0.000000    9.000000         36.000000        0.000000   \n25%             0.000000  100.000000        360.000000        1.000000   \n50%          1084.500000  128.000000        360.000000        1.000000   \n75%          2253.250000  170.000000        360.000000        1.000000   \nmax         33837.000000  600.000000        480.000000        1.000000   \n\n       Property_Area  Loan_Status  \ncount     480.000000   480.000000  \nmean        1.977083     0.691667  \nstd         0.776411     0.462287  \nmin         1.000000     0.000000  \n25%         1.000000     0.000000  \n50%         2.000000     1.000000  \n75%         3.000000     1.000000  \nmax         3.000000     1.000000  "
                    },
                    "execution_count": 11,
                    "metadata": {},
                    "output_type": "execute_result"
                }
            ],
            "source": "df_with_dummies.describe()"
        },
        {
            "cell_type": "markdown",
            "metadata": {},
            "source": "### Feature Scaling"
        },
        {
            "cell_type": "code",
            "execution_count": 12,
            "metadata": {},
            "outputs": [],
            "source": "x = df_with_dummies[['Gender', 'Dependents', 'Education', 'Self_Employed',\n       'ApplicantIncome', 'CoapplicantIncome', 'LoanAmount',\n       'Loan_Amount_Term', 'Credit_History', 'Property_Area']].values\ny = y = df_with_dummies['Loan_Status']"
        },
        {
            "cell_type": "code",
            "execution_count": 13,
            "metadata": {},
            "outputs": [
                {
                    "data": {
                        "text/plain": "array([[-0.46719815,  0.21859918, -0.50325312, -0.3992747 , -0.13796959,\n        -0.02795204, -0.20808917,  0.27554157,  0.41319694,  1.31886834],\n       [-0.46719815, -0.76203265, -0.50325312,  2.50454133, -0.4175358 ,\n        -0.604633  , -0.97900085,  0.27554157,  0.41319694, -1.25977445],\n       [-0.46719815, -0.76203265,  1.98707162, -0.3992747 , -0.49118022,\n         0.29710022, -0.30756164,  0.27554157,  0.41319694, -1.25977445],\n       [-0.46719815, -0.76203265, -0.50325312, -0.3992747 ,  0.11228014,\n        -0.604633  , -0.04644639,  0.27554157,  0.41319694, -1.25977445],\n       [-0.46719815,  1.19923101, -0.50325312,  2.50454133,  0.00931924,\n         0.99997795,  1.52024509,  0.27554157,  0.41319694, -1.25977445]])"
                    },
                    "execution_count": 13,
                    "metadata": {},
                    "output_type": "execute_result"
                }
            ],
            "source": "x = StandardScaler().fit(x).transform(x.astype(float))\nx[0:5]"
        },
        {
            "cell_type": "markdown",
            "metadata": {},
            "source": "### Train and Test Sets"
        },
        {
            "cell_type": "code",
            "execution_count": 14,
            "metadata": {},
            "outputs": [
                {
                    "name": "stdout",
                    "output_type": "stream",
                    "text": "(384, 10) (96, 10)\n(384,) (96,)\n"
                }
            ],
            "source": "from sklearn.model_selection import train_test_split\n\nx_train,x_test,y_train,y_test = train_test_split(x,y,test_size=0.2,random_state=20)\nprint(x_train.shape,x_test.shape)\nprint(y_train.shape,y_test.shape)"
        },
        {
            "cell_type": "markdown",
            "metadata": {},
            "source": "## K-Nearest Neighbor"
        },
        {
            "cell_type": "code",
            "execution_count": 15,
            "metadata": {},
            "outputs": [],
            "source": "from sklearn.neighbors import KNeighborsClassifier"
        },
        {
            "cell_type": "code",
            "execution_count": 16,
            "metadata": {},
            "outputs": [
                {
                    "data": {
                        "text/plain": "KNeighborsClassifier(algorithm='auto', leaf_size=30, metric='minkowski',\n           metric_params=None, n_jobs=None, n_neighbors=7, p=2,\n           weights='uniform')"
                    },
                    "execution_count": 16,
                    "metadata": {},
                    "output_type": "execute_result"
                }
            ],
            "source": "#MODEL \nk = 7\nneigh = KNeighborsClassifier(n_neighbors=k).fit(x_train,y_train)\nneigh"
        },
        {
            "cell_type": "code",
            "execution_count": 17,
            "metadata": {},
            "outputs": [
                {
                    "data": {
                        "text/plain": "array([1, 1, 0, 1, 1])"
                    },
                    "execution_count": 17,
                    "metadata": {},
                    "output_type": "execute_result"
                }
            ],
            "source": "y_knn = neigh.predict(x_test)\ny_knn[0:5]"
        },
        {
            "cell_type": "code",
            "execution_count": 18,
            "metadata": {},
            "outputs": [
                {
                    "data": {
                        "image/png": "[encoded data removed]",
                        "text/plain": "<Figure size 432x288 with 1 Axes>"
                    },
                    "metadata": {
                        "needs_background": "light"
                    },
                    "output_type": "display_data"
                }
            ],
            "source": "knn = 11\n\nnumber_of_k = []\naccuracy_total = []\n\nfor k in range(1,knn):\n    number_of_k.append(k)\n    model = KNeighborsClassifier(n_neighbors=k).fit(x_train,y_train)\n    predicted = model.predict(x_test)\n    accuracy_total.append(accuracy_score(y_test,predicted))\n\nplt.plot(number_of_k,accuracy_total,linewidth=2.0)\nplt.xlabel('Number of k')\nplt.ylabel(\"Accuracy\")\nplt.show()"
        },
        {
            "cell_type": "code",
            "execution_count": 19,
            "metadata": {},
            "outputs": [
                {
                    "name": "stdout",
                    "output_type": "stream",
                    "text": "According to the accuracy score above, the best number of k in this model is 7\n"
                }
            ],
            "source": "print(\"According to the accuracy score above, the best number of k in this model is 7\")"
        },
        {
            "cell_type": "code",
            "execution_count": 20,
            "metadata": {},
            "outputs": [
                {
                    "name": "stdout",
                    "output_type": "stream",
                    "text": "              precision    recall  f1-score   support\n\n           0       0.90      0.60      0.72        30\n           1       0.84      0.97      0.90        66\n\n   micro avg       0.85      0.85      0.85        96\n   macro avg       0.87      0.78      0.81        96\nweighted avg       0.86      0.85      0.84        96\n\n"
                }
            ],
            "source": "print(classification_report(y_test,y_knn))"
        },
        {
            "cell_type": "code",
            "execution_count": 21,
            "metadata": {},
            "outputs": [
                {
                    "name": "stdout",
                    "output_type": "stream",
                    "text": "The accuracy score for K-Nearest Neighbor algorithm is 0.8542\nThe F1-score for K-Nearest Neighbor algorithm is 0.9014\n"
                }
            ],
            "source": "print(\"The accuracy score for K-Nearest Neighbor algorithm is\",accuracy_score(y_test,y_knn).round(4))\nprint(\"The F1-score for K-Nearest Neighbor algorithm is\",f1_score(y_test,y_knn).round(4))"
        },
        {
            "cell_type": "markdown",
            "metadata": {},
            "source": "## Decision Tree"
        },
        {
            "cell_type": "code",
            "execution_count": 22,
            "metadata": {},
            "outputs": [],
            "source": "from sklearn.tree import DecisionTreeClassifier"
        },
        {
            "cell_type": "code",
            "execution_count": 23,
            "metadata": {},
            "outputs": [
                {
                    "data": {
                        "text/plain": "DecisionTreeClassifier(class_weight=None, criterion='entropy', max_depth=2,\n            max_features=None, max_leaf_nodes=None,\n            min_impurity_decrease=0.0, min_impurity_split=None,\n            min_samples_leaf=1, min_samples_split=2,\n            min_weight_fraction_leaf=0.0, presort=False, random_state=None,\n            splitter='best')"
                    },
                    "execution_count": 23,
                    "metadata": {},
                    "output_type": "execute_result"
                }
            ],
            "source": "dt = 2 \ndrugTree = DecisionTreeClassifier(criterion = 'entropy',max_depth = dt)\ndrugTree"
        },
        {
            "cell_type": "code",
            "execution_count": 24,
            "metadata": {},
            "outputs": [
                {
                    "name": "stdout",
                    "output_type": "stream",
                    "text": "[1 1 0 1 1]\n15     1\n602    1\n78     0\n415    1\n472    1\nName: Loan_Status, dtype: int64\n"
                }
            ],
            "source": "predTree = drugTree.fit(x_train,y_train).predict(x_test)\nprint(predTree[0:5])\nprint(y_test[0:5])"
        },
        {
            "cell_type": "code",
            "execution_count": 25,
            "metadata": {},
            "outputs": [
                {
                    "data": {
                        "image/png": "[encoded data removed]",
                        "text/plain": "<Figure size 432x288 with 1 Axes>"
                    },
                    "metadata": {
                        "needs_background": "light"
                    },
                    "output_type": "display_data"
                }
            ],
            "source": "max_k = 11 \ntotal_accuracy = []\nk3 = []\n\nfor k in range(1,max_k):\n    k3.append(k)\n    model = DecisionTreeClassifier(criterion='entropy',max_depth=k).fit(x_train,y_train)\n    prediction = model.predict(x_test)\n    accuracy = accuracy_score(y_test,prediction)\n    total_accuracy.append(accuracy)\n\nplt.plot(k3,total_accuracy,linewidth = 2.0)\nplt.xlabel('Number of K')\nplt.ylabel('Accuracy')\nplt.show()"
        },
        {
            "cell_type": "code",
            "execution_count": 26,
            "metadata": {},
            "outputs": [
                {
                    "name": "stdout",
                    "output_type": "stream",
                    "text": "The best number of K is 2\n"
                }
            ],
            "source": "print(\"The best number of K is 2\")"
        },
        {
            "cell_type": "code",
            "execution_count": 27,
            "metadata": {},
            "outputs": [
                {
                    "name": "stdout",
                    "output_type": "stream",
                    "text": "              precision    recall  f1-score   support\n\n           0       0.90      0.63      0.75        30\n           1       0.85      0.97      0.91        66\n\n   micro avg       0.86      0.86      0.86        96\n   macro avg       0.88      0.80      0.83        96\nweighted avg       0.87      0.86      0.86        96\n\n"
                }
            ],
            "source": "print(classification_report(y_test,predTree))"
        },
        {
            "cell_type": "code",
            "execution_count": 28,
            "metadata": {},
            "outputs": [
                {
                    "name": "stdout",
                    "output_type": "stream",
                    "text": "The AUC (Area Under Curve) is 0.8015\nThe accuracy score for Decision Tree algorithm is 0.8646\nThe F1-score for Decision Tree algorithm is 0.9078\n"
                }
            ],
            "source": "false_positive_rate, true_positive_rate, thresholds = roc_curve(y_test, predTree)\nroc_auc = auc(false_positive_rate, true_positive_rate)\nprint(\"The AUC (Area Under Curve) is\",roc_auc.round(4))\n\nprint(\"The accuracy score for Decision Tree algorithm is\",accuracy_score(y_test,predTree).round(4))\nprint(\"The F1-score for Decision Tree algorithm is\",f1_score(y_test,predTree).round(4))"
        },
        {
            "cell_type": "markdown",
            "metadata": {},
            "source": "## Support Vector Machine (SVM)"
        },
        {
            "cell_type": "code",
            "execution_count": 29,
            "metadata": {},
            "outputs": [
                {
                    "name": "stderr",
                    "output_type": "stream",
                    "text": "/opt/conda/envs/Python36/lib/python3.6/site-packages/sklearn/svm/base.py:196: FutureWarning: The default value of gamma will change from 'auto' to 'scale' in version 0.22 to account better for unscaled features. Set gamma explicitly to 'auto' or 'scale' to avoid this warning.\n  \"avoid this warning.\", FutureWarning)\n"
                },
                {
                    "data": {
                        "text/plain": "SVC(C=1.0, cache_size=200, class_weight=None, coef0=0.0,\n  decision_function_shape='ovr', degree=3, gamma='auto_deprecated',\n  kernel='rbf', max_iter=-1, probability=False, random_state=None,\n  shrinking=True, tol=0.001, verbose=False)"
                    },
                    "execution_count": 29,
                    "metadata": {},
                    "output_type": "execute_result"
                }
            ],
            "source": "from sklearn import svm\n\nmodel = svm.SVC(kernel='rbf')\nmodel.fit(x_train,y_train)"
        },
        {
            "cell_type": "code",
            "execution_count": 30,
            "metadata": {},
            "outputs": [
                {
                    "data": {
                        "text/plain": "array([1, 1, 0, 1, 1])"
                    },
                    "execution_count": 30,
                    "metadata": {},
                    "output_type": "execute_result"
                }
            ],
            "source": "yhat_svm = model.predict(x_test)\nyhat_svm[0:5]"
        },
        {
            "cell_type": "code",
            "execution_count": 31,
            "metadata": {},
            "outputs": [
                {
                    "name": "stdout",
                    "output_type": "stream",
                    "text": "              precision    recall  f1-score   support\n\n           0       0.86      0.60      0.71        30\n           1       0.84      0.95      0.89        66\n\n   micro avg       0.84      0.84      0.84        96\n   macro avg       0.85      0.78      0.80        96\nweighted avg       0.85      0.84      0.83        96\n\n"
                }
            ],
            "source": "print(classification_report(y_test,yhat_svm))"
        },
        {
            "cell_type": "code",
            "execution_count": 32,
            "metadata": {},
            "outputs": [
                {
                    "name": "stdout",
                    "output_type": "stream",
                    "text": "The accuracy score for SVM algorithm is 0.8438\nThe F1-score for SVM algorithm is 0.8936\nThe Jaccard Index for SVM algorithm is 0.8438\n"
                }
            ],
            "source": "print(\"The accuracy score for SVM algorithm is\",accuracy_score(y_test,yhat_svm).round(4))\nprint(\"The F1-score for SVM algorithm is\",f1_score(y_test,yhat_svm).round(4))\nprint(\"The Jaccard Index for SVM algorithm is\",jaccard_similarity_score(y_test,yhat_svm).round(4))"
        },
        {
            "cell_type": "markdown",
            "metadata": {},
            "source": "## Logistic Regression"
        },
        {
            "cell_type": "code",
            "execution_count": 33,
            "metadata": {},
            "outputs": [],
            "source": "from sklearn.linear_model import LogisticRegression"
        },
        {
            "cell_type": "code",
            "execution_count": 34,
            "metadata": {},
            "outputs": [
                {
                    "data": {
                        "text/plain": "LogisticRegression(C=0.01, class_weight=None, dual=False, fit_intercept=True,\n          intercept_scaling=1, max_iter=100, multi_class='warn',\n          n_jobs=None, penalty='l2', random_state=None, solver='liblinear',\n          tol=0.0001, verbose=0, warm_start=False)"
                    },
                    "execution_count": 34,
                    "metadata": {},
                    "output_type": "execute_result"
                }
            ],
            "source": "LR = LogisticRegression(C=0.01, solver='liblinear').fit(x_train,y_train)\nLR"
        },
        {
            "cell_type": "code",
            "execution_count": 35,
            "metadata": {},
            "outputs": [
                {
                    "data": {
                        "text/plain": "array([1, 1, 0, 1, 1])"
                    },
                    "execution_count": 35,
                    "metadata": {},
                    "output_type": "execute_result"
                }
            ],
            "source": "yhat_lr = LR.predict(x_test)\nyhat_lr[0:5]"
        },
        {
            "cell_type": "code",
            "execution_count": 36,
            "metadata": {},
            "outputs": [
                {
                    "name": "stdout",
                    "output_type": "stream",
                    "text": "              precision    recall  f1-score   support\n\n           0       0.90      0.63      0.75        30\n           1       0.85      0.97      0.91        66\n\n   micro avg       0.86      0.86      0.86        96\n   macro avg       0.88      0.80      0.83        96\nweighted avg       0.87      0.86      0.86        96\n\n"
                }
            ],
            "source": "print(classification_report(y_test,yhat_lr))"
        },
        {
            "cell_type": "code",
            "execution_count": 37,
            "metadata": {},
            "outputs": [
                {
                    "name": "stdout",
                    "output_type": "stream",
                    "text": "The accuracy score for Logistic Regression algorithm is 0.8646\nThe F1-score for Logistic Regression algorithm is 0.9078\nThe Jaccard Index for Logistic Regression algorithm is 0.8646\nThe Log Loss for Logistic Regression algorithm is 0.523\n"
                }
            ],
            "source": "print(\"The accuracy score for Logistic Regression algorithm is\",accuracy_score(y_test,yhat_lr).round(4))\nprint(\"The F1-score for Logistic Regression algorithm is\",f1_score(y_test,yhat_lr).round(4))\nprint(\"The Jaccard Index for Logistic Regression algorithm is\",jaccard_similarity_score(y_test,yhat_lr).round(4))\nprint(\"The Log Loss for Logistic Regression algorithm is\",log_loss(y_test,LR.predict_proba(x_test)).round(4))"
        }
    ],
    "metadata": {
        "kernelspec": {
            "display_name": "Python 3.6",
            "language": "python",
            "name": "python3"
        },
        "language_info": {
            "codemirror_mode": {
                "name": "ipython",
                "version": 3
            },
            "file_extension": ".py",
            "mimetype": "text/x-python",
            "name": "python",
            "nbconvert_exporter": "python",
            "pygments_lexer": "ipython3",
            "version": "3.6.9"
        }
    },
    "nbformat": 4,
    "nbformat_minor": 1
}